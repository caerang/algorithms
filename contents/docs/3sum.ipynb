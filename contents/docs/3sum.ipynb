{
 "cells": [
  {
   "cell_type": "markdown",
   "metadata": {},
   "source": [
    "세 수의 합\n",
    "\n",
    "배열을 입력받아 합으로 0을 만들 수 있는 3개의 엘리먼트를 출력하라\n",
    "\n",
    "input\n",
    "nums = [-1, 0, 1, 2, -1, -4]\n",
    "\n",
    "output\n",
    "[\n",
    "    [-1, 0, 1],\n",
    "    [-1, -1, 2]\n",
    "]"
   ]
  },
  {
   "cell_type": "code",
   "execution_count": 4,
   "metadata": {},
   "outputs": [
    {
     "name": "stdout",
     "output_type": "stream",
     "text": [
      "[[-1, 0, 1], [-1, 2, -1], [0, 1, -1]]\n"
     ]
    }
   ],
   "source": [
    "input = [-1, 0, 1, 2, -1, -4]\n",
    "\n",
    "length = len(input)\n",
    "output = []\n",
    "\n",
    "# TODO remove duplicates\n",
    "for i in range(length-2):\n",
    "    for j in range(i+1, length):\n",
    "        for k in range(i+j+1, length):\n",
    "            sum_of_three = input[i] + input[j] + input[k]\n",
    "            if sum_of_three == 0:\n",
    "                output.append([input[i], input[j], input[k]])\n",
    "\n",
    "print(output)"
   ]
  }
 ],
 "metadata": {
  "interpreter": {
   "hash": "991af44da094bee09ad895b46556acf2fd77d7d73f72575931d81c17fa40c2fd"
  },
  "kernelspec": {
   "display_name": "Python 3.9.6 64-bit ('cctv': conda)",
   "language": "python",
   "name": "python3"
  },
  "language_info": {
   "codemirror_mode": {
    "name": "ipython",
    "version": 3
   },
   "file_extension": ".py",
   "mimetype": "text/x-python",
   "name": "python",
   "nbconvert_exporter": "python",
   "pygments_lexer": "ipython3",
   "version": "3.9.7"
  },
  "orig_nbformat": 4
 },
 "nbformat": 4,
 "nbformat_minor": 2
}
