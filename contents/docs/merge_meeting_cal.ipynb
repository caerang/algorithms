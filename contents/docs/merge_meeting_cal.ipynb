{
 "cells": [
  {
   "cell_type": "markdown",
   "metadata": {},
   "source": [
    "[https://www.interviewcake.com/question/python3/merging-ranges?course=fc1&section=array-and-string-manipulation](https://www.interviewcake.com/question/python3/merging-ranges?course=fc1&section=array-and-string-manipulation)\n",
    "\n",
    "### Your company built an in-house calendar tool called HiCal. You want to add a feature to see the times in a day when everyone is available.\n",
    "\n",
    "To do this, you’ll need to know when any team is having a meeting. In HiCal, a meeting is stored as a tuple ↴ of integers (start_time, end_time). These integers represent the number of 30-minute blocks past 9:00am.\n",
    "\n",
    "For example:\n",
    "\n",
    "```\n",
    "(2, 3)  # Meeting from 10:00 – 10:30 am\n",
    "(6, 9)  # Meeting from 12:00 – 1:30 pm\n",
    "```\n",
    "\n",
    "Write a function merge_ranges() that takes a list of multiple meeting time ranges and returns a list of condensed ranges.\n",
    "\n",
    "For example, given:\n",
    "```\n",
    "[(0, 1), (3, 5), (4, 8), (10, 12), (9, 10)]\n",
    "```\n",
    "\n",
    "your function would return:\n",
    "\n",
    "```\n",
    "[(0, 1), (3, 8), (9, 12)]\n",
    "```\n",
    "\n",
    "Do not assume the meetings are in order. The meeting times are coming from multiple teams.\n",
    "\n",
    "Write a solution that's efficient even when we can't put a nice upper bound on the numbers representing our time ranges. Here we've simplified our times down to the number of 30-minute slots past 9:00 am. But we want the function to work even for very large numbers, like Unix timestamps. In any case, the spirit of the challenge is to merge meetings where start_time and end_time don't have an upper bound."
   ]
  }
 ],
 "metadata": {
  "interpreter": {
   "hash": "109b1475a2925d2d3f9242b1fd0261db0187b2017dcad99d217bdd20f8031f17"
  },
  "kernelspec": {
   "display_name": "Python 3.9.6 64-bit ('flask': conda)",
   "language": "python",
   "name": "python3"
  },
  "language_info": {
   "name": "python",
   "version": "3.9.6"
  },
  "orig_nbformat": 4
 },
 "nbformat": 4,
 "nbformat_minor": 2
}
