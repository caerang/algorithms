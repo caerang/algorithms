{
 "cells": [
  {
   "cell_type": "markdown",
   "metadata": {},
   "source": [
    "# 2장 이진 탐색"
   ]
  },
  {
   "cell_type": "markdown",
   "metadata": {},
   "source": [
    "영어 사전에서 모르는 단어를 찾고 있는 중이라고 가정해보자. 'World' 라는 단어를 어떻게 찾는 것이 좋을까? 사전의 처음부터 W라는 알파벳이 나올 때까지 페이지를 한장씩 차례대로 넘기면서 찾는 방법이 있다. 하지만 사전의 처음부터 찾는 방법보다는 W는 알파벳의 뒤쪽에 있는 글자니까 사전의 뒷쪽부터 살펴 보는게 효율적일 것이다.\n",
    "\n",
    "이런 문제를 탐색 문제라고 한다. 위에서 예를 들었던 경우에 이진 탐색이라고 하는 알고리즘을 사용할 수 있다."
   ]
  },
  {
   "cell_type": "markdown",
   "metadata": {},
   "source": [
    "이진 탐색은 입력으로 정렬된 원소 리스트를 받는다. 원소 리스트에 원하는 원소가 있으면 그 원소의 위치를 반환하고 없으면 null 값을 반환한다."
   ]
  },
  {
   "cell_type": "markdown",
   "metadata": {},
   "source": [
    "A와 B가 1부터 100까지 숫자 중 하나를 맞추는 게임을 한다고 가정하자.  A가 1부터 100사이의 숫자 하나를 생각한다. B는 A가 생각한 숫자를 맞추기 위해 질문을 한다. A가 30을 생각했다고 가정하자\n",
    "\n",
    "B: \"1보다 큰수야?\"<br>\n",
    "A: \"아니\"<br>\n",
    "B: \"2보다 큰수야?\"<br>\n",
    "A: \"아니\"<br>\n",
    "B: 3보다 큰수야?\"<br>\n",
    "A: \"아니\"<br>\n",
    "...\n",
    "\n",
    "\n",
    "B는 A가 생각한 30을 맞추기 위해 30번을 질문해야 겨우 답을 맞출 수 있다. 하지만 이번에는 방법을 바꾸어 질문해 보자. 1부터 100까지 숫자 중에 하나의 숫자를 생각한 것이니까 두 수의 합의 평균보다 큰지 작은지 물어 보는 것이다.\n",
    "\n",
    "B: \"50((1+100) / 2)보다 큰수야 작은 수야?\"<br>\n",
    "A: \"작아\"<br>\n",
    "B: \"25((1+50) / 2)보다 큰수야 작은 수야?\"<br>\n",
    "A: \"커\"<br>\n",
    "B: \"38((25+50) / 2)보다 큰수야 작은 수야?\"<br>\n",
    "A: \"작아\"<br>\n",
    "B: \"32((25+38) / 2)보다 큰수야 작은 수야?\"<br>\n",
    "A: \"작아\"<br>\n",
    "B: \"28((25+32) / 2)보다 큰수야 작은 수야?\"<br>\n",
    "A: \"커\"<br>\n",
    "B: \"30((28+32) / 2)보다 큰수야 작은 수야?\"<br>\n",
    "\n",
    "이렇게 B는 6번의 추측으로 A가 생각한 숫자를 맞출 수 있다. 이진 탐색은 탐색 가능성을 전체 탐색해야 하는 크기의 절반씩 줄여 나가는 탐색 방법이다. 처음 탐색 시작을 전체 1부터 100까지 값중에 중간 값이 50부터 시작하기 때문에 50보다 큰지 작은지에 따라 다음 탐색해야 하는 값의 범위를 절반으로 줄였다. 이렇게 탐색 공간을 절반씩 줄여 나가기 때문에 전체를 탐색하는 단순탐색 방법보다 빠르게 탐색이 가능하다."
   ]
  },
  {
   "cell_type": "code",
   "execution_count": 3,
   "metadata": {},
   "outputs": [
    {
     "name": "stdout",
     "output_type": "stream",
     "text": [
      "2\n",
      "None\n"
     ]
    }
   ],
   "source": [
    "def binary_search(list, item):\n",
    "    low = 0 # lower bound\n",
    "    high = len(list) - 1 # upper bound\n",
    "\n",
    "    while low <= high:\n",
    "        # mid = int((low + high) / 2)\n",
    "        mid = (low + high) // 2\n",
    "        guess = list[mid]\n",
    "        if guess == item:\n",
    "            return mid\n",
    "        if guess > item:\n",
    "            high = mid - 1\n",
    "        else:\n",
    "            low = mid + 1\n",
    "    return None\n",
    "\n",
    "# 이진 탐색은 탐색 대상이 정렬 되어 있어야 한다\n",
    "my_list = [1, 3, 4, 6, 7, 9]\n",
    "print(binary_search(my_list, 4))\n",
    "print(binary_search(my_list, 10))"
   ]
  }
 ],
 "metadata": {
  "interpreter": {
   "hash": "fcea3b095e85361ecb13611fb6278c6d9fcc6ea46d2b3c29c4b83276ee4242fb"
  },
  "kernelspec": {
   "display_name": "Python 3.9.7 64-bit ('jbook': conda)",
   "language": "python",
   "name": "python3"
  },
  "language_info": {
   "codemirror_mode": {
    "name": "ipython",
    "version": 3
   },
   "file_extension": ".py",
   "mimetype": "text/x-python",
   "name": "python",
   "nbconvert_exporter": "python",
   "pygments_lexer": "ipython3",
   "version": "3.9.7"
  },
  "orig_nbformat": 4
 },
 "nbformat": 4,
 "nbformat_minor": 2
}
